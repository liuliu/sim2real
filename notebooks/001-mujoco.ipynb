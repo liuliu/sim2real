{
 "cells": [
  {
   "cell_type": "code",
   "execution_count": 1,
   "metadata": {},
   "outputs": [
    {
     "name": "stdout",
     "output_type": "stream",
     "text": [
      "Installing packages:\n",
      "|-@PythonKit//:PythonKit\n",
      "|-@SwiftCrypto//:Crypto\n",
      "|-@swift-jupyter//:JupyterDisplay\n",
      "|-//mujoco:jupyter\n",
      "Working in: /home/liu/Dropbox/workspace/sim2real/.ibzlnb/tWrsT\n",
      "swiftmodule: /home/liu/.cache/bazel/_bazel_liu/882e57e789e5af1ba36860a2b9ed2249/execroot/__main__/bazel-out/k8-opt/bin/mujoco/MuJoCoJupyterExtensions.swiftmodule\n",
      "swiftmodule: /home/liu/.cache/bazel/_bazel_liu/882e57e789e5af1ba36860a2b9ed2249/execroot/__main__/bazel-out/k8-opt/bin/external/PythonKit/PythonKit.swiftmodule\n",
      "swiftmodule: /home/liu/.cache/bazel/_bazel_liu/882e57e789e5af1ba36860a2b9ed2249/execroot/__main__/bazel-out/k8-opt/bin/external/SwiftCrypto/Crypto.swiftmodule\n",
      "swiftmodule: /home/liu/.cache/bazel/_bazel_liu/882e57e789e5af1ba36860a2b9ed2249/execroot/__main__/bazel-out/k8-opt/bin/external/SwiftNIO/NIO.swiftmodule\n",
      "swiftmodule: /home/liu/.cache/bazel/_bazel_liu/882e57e789e5af1ba36860a2b9ed2249/execroot/__main__/bazel-out/k8-opt/bin/external/SwiftNIO/NIOConcurrencyHelpers.swiftmodule\n",
      "swiftmodule: /home/liu/.cache/bazel/_bazel_liu/882e57e789e5af1ba36860a2b9ed2249/execroot/__main__/bazel-out/k8-opt/bin/external/SwiftNIO/NIOCore.swiftmodule\n",
      "swiftmodule: /home/liu/.cache/bazel/_bazel_liu/882e57e789e5af1ba36860a2b9ed2249/execroot/__main__/bazel-out/k8-opt/bin/external/SwiftNIO/NIOEmbedded.swiftmodule\n",
      "swiftmodule: /home/liu/.cache/bazel/_bazel_liu/882e57e789e5af1ba36860a2b9ed2249/execroot/__main__/bazel-out/k8-opt/bin/external/SwiftNIO/NIOHTTP1.swiftmodule\n",
      "swiftmodule: /home/liu/.cache/bazel/_bazel_liu/882e57e789e5af1ba36860a2b9ed2249/execroot/__main__/bazel-out/k8-opt/bin/external/SwiftNIO/NIOPosix.swiftmodule\n",
      "swiftmodule: /home/liu/.cache/bazel/_bazel_liu/882e57e789e5af1ba36860a2b9ed2249/execroot/__main__/bazel-out/k8-opt/bin/external/SwiftNIO/NIOWebSocket.swiftmodule\n",
      "swiftmodule: /home/liu/.cache/bazel/_bazel_liu/882e57e789e5af1ba36860a2b9ed2249/execroot/__main__/bazel-out/k8-opt/bin/external/SwiftNIO/_NIODataStructures.swiftmodule\n",
      "swiftmodule: /home/liu/.cache/bazel/_bazel_liu/882e57e789e5af1ba36860a2b9ed2249/execroot/__main__/bazel-out/k8-opt/bin/external/swift-atomics/Atomics.swiftmodule\n",
      "swiftmodule: /home/liu/.cache/bazel/_bazel_liu/882e57e789e5af1ba36860a2b9ed2249/execroot/__main__/bazel-out/k8-opt/bin/external/swift-jupyter/JupyterDisplay.swiftmodule\n",
      "swiftmodule: /home/liu/.cache/bazel/_bazel_liu/882e57e789e5af1ba36860a2b9ed2249/execroot/__main__/bazel-out/k8-opt/bin/external/swift-mujoco/MuJoCo.swiftmodule\n",
      "Initializing Swift...\n",
      "Installation complete!\n"
     ]
    }
   ],
   "source": [
    "%bazel \"@PythonKit//:PythonKit\"\n",
    "%bazel \"@SwiftCrypto//:Crypto\"\n",
    "%bazel \"@swift-jupyter//:JupyterDisplay\"\n",
    "%bazel \"//mujoco:jupyter\""
   ]
  },
  {
   "cell_type": "code",
   "execution_count": 2,
   "metadata": {},
   "outputs": [],
   "source": [
    "import MuJoCo\n",
    "import MuJoCoJupyterExtensions"
   ]
  },
  {
   "cell_type": "code",
   "execution_count": 3,
   "metadata": {},
   "outputs": [],
   "source": [
    "let simulate = Simulate(width: 960, height: 540, title: \"simulate\")\n",
    "var m = try MjModel(fromXMLPath: \"/home/liu/workspace/s4nnc/gym/assets/ant.xml\")\n",
    "var d = m.makeData()\n",
    "simulate.use(model: m, data: &d)"
   ]
  },
  {
   "cell_type": "code",
   "execution_count": 4,
   "metadata": {},
   "outputs": [],
   "source": [
    "let httpRenderServer = HTTPRenderServer(simulate, maxWidth: 960, maxHeight: 540, canResize: false)\n",
    "let channel = try httpRenderServer.bind(host: \"0.0.0.0\", port: 12345).wait()"
   ]
  },
  {
   "cell_type": "code",
   "execution_count": 5,
   "metadata": {},
   "outputs": [],
   "source": [
    "simulate.makeContext(hidden: true)"
   ]
  },
  {
   "cell_type": "code",
   "execution_count": null,
   "metadata": {},
   "outputs": [
    {
     "data": {
      "text/html": [
       "  <div id=\"SFKOCkVz-motion-jpeg-div\" style=\"margin:auto;display:block\"></div>\n",
       "  <script>\n",
       "    var div = document.getElementById(\"SFKOCkVz-motion-jpeg-div\");\n",
       "    div.innerHTML = '<img id=\"SFKOCkVz-motion-jpeg-img\" src=\"http://' + window.location.hostname + ':12345/SFKOCkVz.mjpg\" style=\"margin:auto;display:block\">';\n",
       "    var script = document.createElement(\"script\");\n",
       "    script.src = \"http://\" + window.location.hostname + \":12345/SFKOCkVz.js\";\n",
       "    div.appendChild(script);\n",
       "  </script>"
      ]
     },
     "metadata": {
      "0": "{",
      "1": "}"
     },
     "output_type": "display_data"
    }
   ],
   "source": [
    "JupyterDisplay.display(html: httpRenderServer.html)\n",
    "JupyterDisplay.flush()\n",
    "\n",
    "let syncmisalign: Double = 0.1  // maximum time mis-alignment before re-sync\n",
    "let refreshfactor: Double = 0.7  // fraction of refresh available for simulation\n",
    "var ctrlnoise: [Double]? = nil\n",
    "let vmode = GLContext.videoMode\n",
    "var simsync: Double = 0\n",
    "var cpusync: Double = 0\n",
    "while !simulate.exitrequest {\n",
    "    simulate.yield()\n",
    "    if simulate.running {\n",
    "        let tmstart = GLContext.time\n",
    "        if simulate.ctrlnoisestd > 0 {\n",
    "            let rate = exp(-m.opt.timestep / simulate.ctrlnoiserate)\n",
    "            let scale = simulate.ctrlnoisestd * (1 - rate * rate).squareRoot()\n",
    "            let prevctrlnoise = ctrlnoise\n",
    "            if ctrlnoise == nil {\n",
    "                // allocate ctrlnoise\n",
    "                ctrlnoise = Array(repeating: 0, count: Int(m.nu))\n",
    "            }\n",
    "            for i in 0..<Int(m.nu) {\n",
    "                ctrlnoise?[i] = rate * (prevctrlnoise?[i] ?? 0) + scale * Simulate.normal(1)\n",
    "                d.ctrl[i] = ctrlnoise?[i] ?? 0\n",
    "            }\n",
    "        }\n",
    "        let offset = abs((d.time * Double(simulate.slowdown) - simsync) - (tmstart - cpusync))\n",
    "        // Out of sync.\n",
    "        if d.time * Double(simulate.slowdown) < simsync || tmstart < cpusync\n",
    "            || cpusync == 0 || offset > syncmisalign * Double(simulate.slowdown)\n",
    "            || simulate.speedchanged\n",
    "        {\n",
    "            cpusync = tmstart\n",
    "            simsync = d.time * Double(simulate.slowdown)\n",
    "            simulate.speedchanged = false\n",
    "            d.xfrcApplied.zero()\n",
    "            simulate.perturb.applyPerturbPose(model: m, data: &d, flgPaused: 0)\n",
    "            simulate.perturb.applyPerturbForce(model: m, data: &d)\n",
    "            m.step(data: &d)\n",
    "        } else {\n",
    "            // In sync.\n",
    "            // step while simtime lags behind cputime, and within safefactor\n",
    "            while d.time * Double(simulate.slowdown) - simsync < GLContext.time - cpusync\n",
    "              && GLContext.time - tmstart < refreshfactor / Double(vmode.refreshRate)\n",
    "            {\n",
    "                // clear old perturbations, apply new\n",
    "                d.xfrcApplied.zero()\n",
    "                simulate.perturb.applyPerturbPose(model: m, data: &d, flgPaused: 0)\n",
    "                simulate.perturb.applyPerturbForce(model: m, data: &d)\n",
    "                let prevtm = d.time * Double(simulate.slowdown)\n",
    "                m.step(data: &d)\n",
    "\n",
    "                // break on reset\n",
    "                if d.time * Double(simulate.slowdown) < prevtm {\n",
    "                    break\n",
    "                }\n",
    "            }\n",
    "        }\n",
    "    } else {\n",
    "        simulate.perturb.applyPerturbPose(model: m, data: &d, flgPaused: 1)\n",
    "        m.forward(data: &d)\n",
    "    }\n",
    "}"
   ]
  },
  {
   "cell_type": "code",
   "execution_count": null,
   "metadata": {},
   "outputs": [],
   "source": []
  }
 ],
 "metadata": {
  "kernelspec": {
   "display_name": "Swift",
   "language": "swift",
   "name": "swift"
  },
  "language_info": {
   "file_extension": ".swift",
   "mimetype": "text/x-swift",
   "name": "swift",
   "version": ""
  }
 },
 "nbformat": 4,
 "nbformat_minor": 4
}
