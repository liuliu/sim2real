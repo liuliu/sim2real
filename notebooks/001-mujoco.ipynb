{
 "cells": [
  {
   "cell_type": "code",
   "execution_count": 1,
   "metadata": {},
   "outputs": [
    {
     "name": "stdout",
     "output_type": "stream",
     "text": [
      "Installing packages:\n",
      "|-@PythonKit//:PythonKit\n",
      "|-@SwiftCrypto//:Crypto\n",
      "|-//mujoco:jupyter\n",
      "Working in: /home/liu/Dropbox/workspace/sim2real/.ibzlnb/AcVCP\n",
      "swiftmodule: /home/liu/.cache/bazel/_bazel_liu/882e57e789e5af1ba36860a2b9ed2249/execroot/__main__/bazel-out/k8-fastbuild/bin/mujoco/MuJoCoJupyterExtensions.swiftmodule\n",
      "swiftmodule: /home/liu/.cache/bazel/_bazel_liu/882e57e789e5af1ba36860a2b9ed2249/execroot/__main__/bazel-out/k8-fastbuild/bin/external/PythonKit/PythonKit.swiftmodule\n",
      "swiftmodule: /home/liu/.cache/bazel/_bazel_liu/882e57e789e5af1ba36860a2b9ed2249/execroot/__main__/bazel-out/k8-fastbuild/bin/external/SwiftCrypto/Crypto.swiftmodule\n",
      "swiftmodule: /home/liu/.cache/bazel/_bazel_liu/882e57e789e5af1ba36860a2b9ed2249/execroot/__main__/bazel-out/k8-fastbuild/bin/external/SwiftNIO/NIO.swiftmodule\n",
      "swiftmodule: /home/liu/.cache/bazel/_bazel_liu/882e57e789e5af1ba36860a2b9ed2249/execroot/__main__/bazel-out/k8-fastbuild/bin/external/SwiftNIO/NIOConcurrencyHelpers.swiftmodule\n",
      "swiftmodule: /home/liu/.cache/bazel/_bazel_liu/882e57e789e5af1ba36860a2b9ed2249/execroot/__main__/bazel-out/k8-fastbuild/bin/external/SwiftNIO/NIOCore.swiftmodule\n",
      "swiftmodule: /home/liu/.cache/bazel/_bazel_liu/882e57e789e5af1ba36860a2b9ed2249/execroot/__main__/bazel-out/k8-fastbuild/bin/external/SwiftNIO/NIOEmbedded.swiftmodule\n",
      "swiftmodule: /home/liu/.cache/bazel/_bazel_liu/882e57e789e5af1ba36860a2b9ed2249/execroot/__main__/bazel-out/k8-fastbuild/bin/external/SwiftNIO/NIOHTTP1.swiftmodule\n",
      "swiftmodule: /home/liu/.cache/bazel/_bazel_liu/882e57e789e5af1ba36860a2b9ed2249/execroot/__main__/bazel-out/k8-fastbuild/bin/external/SwiftNIO/NIOPosix.swiftmodule\n",
      "swiftmodule: /home/liu/.cache/bazel/_bazel_liu/882e57e789e5af1ba36860a2b9ed2249/execroot/__main__/bazel-out/k8-fastbuild/bin/external/SwiftNIO/NIOWebSocket.swiftmodule\n",
      "swiftmodule: /home/liu/.cache/bazel/_bazel_liu/882e57e789e5af1ba36860a2b9ed2249/execroot/__main__/bazel-out/k8-fastbuild/bin/external/SwiftNIO/_NIODataStructures.swiftmodule\n",
      "swiftmodule: /home/liu/.cache/bazel/_bazel_liu/882e57e789e5af1ba36860a2b9ed2249/execroot/__main__/bazel-out/k8-fastbuild/bin/external/swift-atomics/Atomics.swiftmodule\n",
      "swiftmodule: /home/liu/.cache/bazel/_bazel_liu/882e57e789e5af1ba36860a2b9ed2249/execroot/__main__/bazel-out/k8-fastbuild/bin/external/swift-mujoco/MuJoCo.swiftmodule\n",
      "Initializing Swift...\n",
      "Installation complete!\n"
     ]
    }
   ],
   "source": [
    "%bazel \"@PythonKit//:PythonKit\"\n",
    "%bazel \"@SwiftCrypto//:Crypto\"\n",
    "%bazel \"//mujoco:jupyter\""
   ]
  },
  {
   "cell_type": "code",
   "execution_count": 2,
   "metadata": {},
   "outputs": [],
   "source": [
    "import PythonKit"
   ]
  },
  {
   "cell_type": "code",
   "execution_count": 3,
   "metadata": {},
   "outputs": [],
   "source": [
    "%include \"EnableJupyterDisplay.swift\""
   ]
  },
  {
   "cell_type": "code",
   "execution_count": 4,
   "metadata": {},
   "outputs": [],
   "source": [
    "import MuJoCo\n",
    "import MuJoCoJupyterExtensions"
   ]
  },
  {
   "cell_type": "code",
   "execution_count": 5,
   "metadata": {},
   "outputs": [],
   "source": [
    "let simulate = Simulate(width: 1920, height: 1080, title: \"simulate\")\n",
    "var model = try MjModel(fromXMLPath: \"/home/liu/workspace/s4nnc/gym/assets/ant.xml\")\n",
    "var data = model.makeData()\n",
    "simulate.use(model: model, data: &data)"
   ]
  },
  {
   "cell_type": "code",
   "execution_count": 6,
   "metadata": {},
   "outputs": [
    {
     "data": {
      "text/plain": [
       "Use `print()` to show values.\n"
      ]
     },
     "execution_count": 6,
     "metadata": {},
     "output_type": "execute_result"
    }
   ],
   "source": [
    "let httpRenderServer = HTTPRenderServer(simulate, maxWidth: 1920, maxHeight: 1080)\n",
    "try httpRenderServer.bind(host: \"0.0.0.0\", port: 12345).wait()"
   ]
  },
  {
   "cell_type": "code",
   "execution_count": 7,
   "metadata": {},
   "outputs": [],
   "source": [
    "simulate.makeContext(hidden: true)\n",
    "let cpugenesis = GLContext.time\n",
    "let simgenesis = data.time\n",
    "var cpusync = cpugenesis\n",
    "var simsync = simgenesis"
   ]
  },
  {
   "cell_type": "code",
   "execution_count": 8,
   "metadata": {},
   "outputs": [
    {
     "data": {
      "text/html": [
       "  <img id=\"pKt4kDHl-motion-jpeg-img\" src=\"http://:0/pKt4kDHl.mjpg\" style=\"margin:auto;display:block\"><script src=\"http://:0/pKt4kDHl.js\"></script>"
      ]
     },
     "metadata": {
      "0": "{",
      "1": "}"
     },
     "output_type": "display_data"
    }
   ],
   "source": [
    "JupyterDisplay.display(html: httpRenderServer.html)\n",
    "simulate.yield()"
   ]
  },
  {
   "cell_type": "code",
   "execution_count": null,
   "metadata": {},
   "outputs": [],
   "source": [
    "while true {\n",
    "    simsync = data.time\n",
    "    while simsync - simgenesis >= cpusync - cpugenesis {\n",
    "        simulate.yield()\n",
    "        cpusync = GLContext.time\n",
    "    }\n",
    "}"
   ]
  }
 ],
 "metadata": {
  "kernelspec": {
   "display_name": "Swift",
   "language": "swift",
   "name": "swift"
  },
  "language_info": {
   "file_extension": ".swift",
   "mimetype": "text/x-swift",
   "name": "swift",
   "version": ""
  }
 },
 "nbformat": 4,
 "nbformat_minor": 4
}
