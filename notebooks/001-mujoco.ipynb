{
 "cells": [
  {
   "cell_type": "code",
   "execution_count": 1,
   "metadata": {},
   "outputs": [
    {
     "name": "stdout",
     "output_type": "stream",
     "text": [
      "Installing packages:\n",
      "|-@PythonKit//:PythonKit\n",
      "|-@SwiftCrypto//:Crypto\n",
      "|-//mujoco:jupyter\n",
      "Working in: /home/liu/Dropbox/workspace/sim2real/.ibzlnb/RPMas\n",
      "swiftmodule: /home/liu/.cache/bazel/_bazel_liu/882e57e789e5af1ba36860a2b9ed2249/execroot/__main__/bazel-out/k8-opt/bin/mujoco/MuJoCoJupyterExtensions.swiftmodule\n",
      "swiftmodule: /home/liu/.cache/bazel/_bazel_liu/882e57e789e5af1ba36860a2b9ed2249/execroot/__main__/bazel-out/k8-opt/bin/external/PythonKit/PythonKit.swiftmodule\n",
      "swiftmodule: /home/liu/.cache/bazel/_bazel_liu/882e57e789e5af1ba36860a2b9ed2249/execroot/__main__/bazel-out/k8-opt/bin/external/SwiftCrypto/Crypto.swiftmodule\n",
      "swiftmodule: /home/liu/.cache/bazel/_bazel_liu/882e57e789e5af1ba36860a2b9ed2249/execroot/__main__/bazel-out/k8-opt/bin/external/SwiftNIO/NIO.swiftmodule\n",
      "swiftmodule: /home/liu/.cache/bazel/_bazel_liu/882e57e789e5af1ba36860a2b9ed2249/execroot/__main__/bazel-out/k8-opt/bin/external/SwiftNIO/NIOConcurrencyHelpers.swiftmodule\n",
      "swiftmodule: /home/liu/.cache/bazel/_bazel_liu/882e57e789e5af1ba36860a2b9ed2249/execroot/__main__/bazel-out/k8-opt/bin/external/SwiftNIO/NIOCore.swiftmodule\n",
      "swiftmodule: /home/liu/.cache/bazel/_bazel_liu/882e57e789e5af1ba36860a2b9ed2249/execroot/__main__/bazel-out/k8-opt/bin/external/SwiftNIO/NIOEmbedded.swiftmodule\n",
      "swiftmodule: /home/liu/.cache/bazel/_bazel_liu/882e57e789e5af1ba36860a2b9ed2249/execroot/__main__/bazel-out/k8-opt/bin/external/SwiftNIO/NIOHTTP1.swiftmodule\n",
      "swiftmodule: /home/liu/.cache/bazel/_bazel_liu/882e57e789e5af1ba36860a2b9ed2249/execroot/__main__/bazel-out/k8-opt/bin/external/SwiftNIO/NIOPosix.swiftmodule\n",
      "swiftmodule: /home/liu/.cache/bazel/_bazel_liu/882e57e789e5af1ba36860a2b9ed2249/execroot/__main__/bazel-out/k8-opt/bin/external/SwiftNIO/NIOWebSocket.swiftmodule\n",
      "swiftmodule: /home/liu/.cache/bazel/_bazel_liu/882e57e789e5af1ba36860a2b9ed2249/execroot/__main__/bazel-out/k8-opt/bin/external/SwiftNIO/_NIODataStructures.swiftmodule\n",
      "swiftmodule: /home/liu/.cache/bazel/_bazel_liu/882e57e789e5af1ba36860a2b9ed2249/execroot/__main__/bazel-out/k8-opt/bin/external/swift-atomics/Atomics.swiftmodule\n",
      "swiftmodule: /home/liu/.cache/bazel/_bazel_liu/882e57e789e5af1ba36860a2b9ed2249/execroot/__main__/bazel-out/k8-opt/bin/external/swift-mujoco/MuJoCo.swiftmodule\n",
      "Initializing Swift...\n",
      "Installation complete!\n"
     ]
    }
   ],
   "source": [
    "%bazel \"@PythonKit//:PythonKit\"\n",
    "%bazel \"@SwiftCrypto//:Crypto\"\n",
    "%bazel \"//mujoco:jupyter\""
   ]
  },
  {
   "cell_type": "code",
   "execution_count": 6,
   "metadata": {},
   "outputs": [],
   "source": [
    "import PythonKit"
   ]
  },
  {
   "cell_type": "code",
   "execution_count": 7,
   "metadata": {},
   "outputs": [],
   "source": [
    "import MuJoCo\n",
    "import MuJoCoJupyterExtensions"
   ]
  },
  {
   "cell_type": "code",
   "execution_count": 8,
   "metadata": {},
   "outputs": [],
   "source": [
    "let simulate = Simulate(width: 960, height: 540, title: \"simulate\")\n",
    "var m = try MjModel(fromXMLPath: \"/home/liu/workspace/s4nnc/gym/assets/ant.xml\")\n",
    "var d = m.makeData()\n",
    "simulate.use(model: m, data: &d)"
   ]
  },
  {
   "cell_type": "code",
   "execution_count": 9,
   "metadata": {},
   "outputs": [],
   "source": [
    "let httpRenderServer = HTTPRenderServer(simulate, maxWidth: 960, maxHeight: 540, canResize: false)\n",
    "let channel = try httpRenderServer.bind(host: \"0.0.0.0\", port: 12345).wait()"
   ]
  },
  {
   "cell_type": "code",
   "execution_count": 10,
   "metadata": {},
   "outputs": [],
   "source": [
    "simulate.makeContext(hidden: true)"
   ]
  },
  {
   "cell_type": "code",
   "execution_count": null,
   "metadata": {},
   "outputs": [
    {
     "data": {
      "text/html": [
       "  <div id=\"kFA3HBWn-motion-jpeg-div\" style=\"margin:auto;display:block\"></div>\n",
       "  <script>\n",
       "    var div = document.getElementById(\"kFA3HBWn-motion-jpeg-div\");\n",
       "    div.innerHTML = '<img id=\"kFA3HBWn-motion-jpeg-img\" src=\"http://' + window.location.hostname + ':12345/kFA3HBWn.mjpg\" style=\"margin:auto;display:block\">';\n",
       "    var script = document.createElement(\"script\");\n",
       "    script.src = \"http://\" + window.location.hostname + \":12345/kFA3HBWn.js\";\n",
       "    div.appendChild(script);\n",
       "  </script>"
      ]
     },
     "metadata": {
      "0": "{",
      "1": "}"
     },
     "output_type": "display_data"
    }
   ],
   "source": [
    "JupyterDisplay.display(html: httpRenderServer.html)\n",
    "JupyterDisplay.flush()\n",
    "simulate.run()"
   ]
  },
  {
   "cell_type": "code",
   "execution_count": null,
   "metadata": {},
   "outputs": [],
   "source": []
  }
 ],
 "metadata": {
  "kernelspec": {
   "display_name": "Swift",
   "language": "swift",
   "name": "swift"
  },
  "language_info": {
   "file_extension": ".swift",
   "mimetype": "text/x-swift",
   "name": "swift",
   "version": ""
  }
 },
 "nbformat": 4,
 "nbformat_minor": 4
}
