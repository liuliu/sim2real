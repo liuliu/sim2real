{
 "cells": [
  {
   "cell_type": "code",
   "execution_count": null,
   "metadata": {},
   "outputs": [
    {
     "name": "stdout",
     "output_type": "stream",
     "text": [
      "Installing packages:\n",
      "|-@PythonKit//:PythonKit\n",
      "|-@SwiftCrypto//:Crypto\n",
      "|-//mujoco:jupyter\n",
      "Working in: /home/liu/Dropbox/workspace/sim2real/.ibzlnb/eSsdO\n"
     ]
    },
    {
     "ename": "",
     "evalue": "",
     "output_type": "error",
     "traceback": [
      "Kernel is in a bad state. Try restarting the kernel.",
      "",
      "Exception in `_process_installs`:",
      "Command '['bazel', 'build', '//.ibzlnb/eSsdO:libjupyterInstalledPackages.so', '--compilation_mode=opt', '--copt=-fPIC']' returned non-zero exit status 1."
     ]
    }
   ],
   "source": [
    "%bazel \"@PythonKit//:PythonKit\"\n",
    "%bazel \"@SwiftCrypto//:Crypto\"\n",
    "%bazel \"//mujoco:jupyter\""
   ]
  },
  {
   "cell_type": "code",
   "execution_count": 2,
   "metadata": {},
   "outputs": [],
   "source": [
    "import PythonKit"
   ]
  },
  {
   "cell_type": "code",
   "execution_count": 3,
   "metadata": {},
   "outputs": [],
   "source": [
    "%include \"EnableJupyterDisplay.swift\""
   ]
  },
  {
   "cell_type": "code",
   "execution_count": 4,
   "metadata": {},
   "outputs": [],
   "source": [
    "import MuJoCo\n",
    "import MuJoCoJupyterExtensions"
   ]
  },
  {
   "cell_type": "code",
   "execution_count": 5,
   "metadata": {},
   "outputs": [],
   "source": [
    "let simulate = Simulate(width: 960, height: 540, title: \"simulate\")\n",
    "var model = try MjModel(fromXMLPath: \"/home/liu/workspace/s4nnc/gym/assets/ant.xml\")\n",
    "var data = model.makeData()\n",
    "simulate.use(model: model, data: &data)"
   ]
  },
  {
   "cell_type": "code",
   "execution_count": 6,
   "metadata": {},
   "outputs": [],
   "source": [
    "let httpRenderServer = HTTPRenderServer(simulate, maxWidth: 960, maxHeight: 540, canResize: false)\n",
    "let channel = try httpRenderServer.bind(host: \"0.0.0.0\", port: 12345).wait()"
   ]
  },
  {
   "cell_type": "code",
   "execution_count": 7,
   "metadata": {},
   "outputs": [],
   "source": [
    "simulate.makeContext(hidden: true)\n",
    "let cpugenesis = GLContext.time\n",
    "let simgenesis = data.time\n",
    "var cpusync = cpugenesis\n",
    "var simsync = simgenesis"
   ]
  },
  {
   "cell_type": "code",
   "execution_count": null,
   "metadata": {},
   "outputs": [
    {
     "data": {
      "text/html": [
       "  <div id=\"0J5PKCHh-motion-jpeg-div\" style=\"margin:auto;display:block\"></div>\n",
       "  <script>\n",
       "    var div = document.getElementById(\"0J5PKCHh-motion-jpeg-div\");\n",
       "    div.innerHTML = '<img id=\"0J5PKCHh-motion-jpeg-img\" src=\"http://' + window.location.hostname + ':12345/0J5PKCHh.mjpg\" style=\"margin:auto;display:block\">';\n",
       "    var script = document.createElement(\"script\");\n",
       "    script.src = '\"http://' + window.location.hostname + ':12345/0J5PKCHh.js\"';\n",
       "    div.appendChild(script);\n",
       "  </script>"
      ]
     },
     "metadata": {
      "0": "{",
      "1": "}"
     },
     "output_type": "display_data"
    }
   ],
   "source": [
    "JupyterDisplay.display(html: httpRenderServer.html)\n",
    "JupyterDisplay.flush()\n",
    "while true {\n",
    "    model.step(data: &data)\n",
    "    simsync = data.time\n",
    "    while simsync - simgenesis >= cpusync - cpugenesis {\n",
    "        simulate.yield()\n",
    "        cpusync = GLContext.time\n",
    "    }\n",
    "}"
   ]
  },
  {
   "cell_type": "code",
   "execution_count": null,
   "metadata": {},
   "outputs": [],
   "source": []
  }
 ],
 "metadata": {
  "kernelspec": {
   "display_name": "Swift",
   "language": "swift",
   "name": "swift"
  },
  "language_info": {
   "file_extension": ".swift",
   "mimetype": "text/x-swift",
   "name": "swift",
   "version": ""
  }
 },
 "nbformat": 4,
 "nbformat_minor": 4
}
