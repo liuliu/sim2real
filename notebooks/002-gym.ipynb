{
 "cells": [
  {
   "cell_type": "code",
   "execution_count": 1,
   "metadata": {},
   "outputs": [
    {
     "name": "stdout",
     "output_type": "stream",
     "text": [
      "Installing packages:\n",
      "|-@PythonKit//:PythonKit\n",
      "|-@SwiftCrypto//:Crypto\n",
      "|-@swift-jupyter//:JupyterDisplay\n",
      "|-@s4nnc//gym:gym\n",
      "Working in: /home/liu/Dropbox/workspace/sim2real/.ibzlnb/eZQJp\n",
      "swiftmodule: /home/liu/.cache/bazel/_bazel_liu/882e57e789e5af1ba36860a2b9ed2249/execroot/__main__/bazel-out/k8-opt/bin/external/PythonKit/PythonKit.swiftmodule\n",
      "swiftmodule: /home/liu/.cache/bazel/_bazel_liu/882e57e789e5af1ba36860a2b9ed2249/execroot/__main__/bazel-out/k8-opt/bin/external/SwiftAlgorithms/Algorithms.swiftmodule\n",
      "swiftmodule: /home/liu/.cache/bazel/_bazel_liu/882e57e789e5af1ba36860a2b9ed2249/execroot/__main__/bazel-out/k8-opt/bin/external/SwiftCrypto/Crypto.swiftmodule\n",
      "swiftmodule: /home/liu/.cache/bazel/_bazel_liu/882e57e789e5af1ba36860a2b9ed2249/execroot/__main__/bazel-out/k8-opt/bin/external/SwiftNIO/NIO.swiftmodule\n",
      "swiftmodule: /home/liu/.cache/bazel/_bazel_liu/882e57e789e5af1ba36860a2b9ed2249/execroot/__main__/bazel-out/k8-opt/bin/external/SwiftNIO/NIOConcurrencyHelpers.swiftmodule\n",
      "swiftmodule: /home/liu/.cache/bazel/_bazel_liu/882e57e789e5af1ba36860a2b9ed2249/execroot/__main__/bazel-out/k8-opt/bin/external/SwiftNIO/NIOCore.swiftmodule\n",
      "swiftmodule: /home/liu/.cache/bazel/_bazel_liu/882e57e789e5af1ba36860a2b9ed2249/execroot/__main__/bazel-out/k8-opt/bin/external/SwiftNIO/NIOEmbedded.swiftmodule\n",
      "swiftmodule: /home/liu/.cache/bazel/_bazel_liu/882e57e789e5af1ba36860a2b9ed2249/execroot/__main__/bazel-out/k8-opt/bin/external/SwiftNIO/NIOHTTP1.swiftmodule\n",
      "swiftmodule: /home/liu/.cache/bazel/_bazel_liu/882e57e789e5af1ba36860a2b9ed2249/execroot/__main__/bazel-out/k8-opt/bin/external/SwiftNIO/NIOPosix.swiftmodule\n",
      "swiftmodule: /home/liu/.cache/bazel/_bazel_liu/882e57e789e5af1ba36860a2b9ed2249/execroot/__main__/bazel-out/k8-opt/bin/external/SwiftNIO/NIOWebSocket.swiftmodule\n",
      "swiftmodule: /home/liu/.cache/bazel/_bazel_liu/882e57e789e5af1ba36860a2b9ed2249/execroot/__main__/bazel-out/k8-opt/bin/external/SwiftNIO/_NIODataStructures.swiftmodule\n",
      "swiftmodule: /home/liu/.cache/bazel/_bazel_liu/882e57e789e5af1ba36860a2b9ed2249/execroot/__main__/bazel-out/k8-opt/bin/external/SwiftNumerics/ComplexModule.swiftmodule\n",
      "swiftmodule: /home/liu/.cache/bazel/_bazel_liu/882e57e789e5af1ba36860a2b9ed2249/execroot/__main__/bazel-out/k8-opt/bin/external/SwiftNumerics/Numerics.swiftmodule\n",
      "swiftmodule: /home/liu/.cache/bazel/_bazel_liu/882e57e789e5af1ba36860a2b9ed2249/execroot/__main__/bazel-out/k8-opt/bin/external/SwiftNumerics/RealModule.swiftmodule\n",
      "swiftmodule: /home/liu/.cache/bazel/_bazel_liu/882e57e789e5af1ba36860a2b9ed2249/execroot/__main__/bazel-out/k8-opt/bin/external/s4nnc/gym/Gym.swiftmodule\n",
      "swiftmodule: /home/liu/.cache/bazel/_bazel_liu/882e57e789e5af1ba36860a2b9ed2249/execroot/__main__/bazel-out/k8-opt/bin/external/s4nnc/nnc/NNC.swiftmodule\n",
      "swiftmodule: /home/liu/.cache/bazel/_bazel_liu/882e57e789e5af1ba36860a2b9ed2249/execroot/__main__/bazel-out/k8-opt/bin/external/s4nnc/nnc/NNCMuJoCoConversion.swiftmodule\n",
      "swiftmodule: /home/liu/.cache/bazel/_bazel_liu/882e57e789e5af1ba36860a2b9ed2249/execroot/__main__/bazel-out/k8-opt/bin/external/swift-atomics/Atomics.swiftmodule\n",
      "swiftmodule: /home/liu/.cache/bazel/_bazel_liu/882e57e789e5af1ba36860a2b9ed2249/execroot/__main__/bazel-out/k8-opt/bin/external/swift-jupyter/JupyterDisplay.swiftmodule\n",
      "swiftmodule: /home/liu/.cache/bazel/_bazel_liu/882e57e789e5af1ba36860a2b9ed2249/execroot/__main__/bazel-out/k8-opt/bin/external/swift-mujoco/MuJoCo.swiftmodule\n",
      "Initializing Swift...\n",
      "Installation complete!\n"
     ]
    }
   ],
   "source": [
    "%bazel \"@PythonKit//:PythonKit\"\n",
    "%bazel \"@SwiftCrypto//:Crypto\"\n",
    "%bazel \"@swift-jupyter//:JupyterDisplay\"\n",
    "%bazel \"@s4nnc//gym:gym\""
   ]
  },
  {
   "cell_type": "code",
   "execution_count": 2,
   "metadata": {},
   "outputs": [],
   "source": [
    "import Gym\n",
    "import NNC"
   ]
  },
  {
   "cell_type": "code",
   "execution_count": 3,
   "metadata": {},
   "outputs": [],
   "source": [
    "var env = TimeLimit(env: try Ant(), maxEpisodeSteps: 1_000)\n",
    "let viewer = MuJoCoViewer(env: env)"
   ]
  },
  {
   "cell_type": "code",
   "execution_count": 4,
   "metadata": {},
   "outputs": [],
   "source": [
    "var action = Tensor<Double>(.CPU, .C(8))"
   ]
  },
  {
   "cell_type": "code",
   "execution_count": null,
   "metadata": {},
   "outputs": [
    {
     "data": {
      "text/html": [
       "  <div id=\"Cu4DnEwb-motion-jpeg-div\" style=\"margin:auto;display:block\"></div>\n",
       "  <script>\n",
       "    var div = document.getElementById(\"Cu4DnEwb-motion-jpeg-div\");\n",
       "    div.innerHTML = '<img id=\"Cu4DnEwb-motion-jpeg-img\" src=\"http://' + window.location.hostname + ':19679/Cu4DnEwb.mjpg\" style=\"margin:auto;display:block\"><a href=\"http://' + window.location.hostname + ':19679\" target=\"_blank\" style=\"margin:auto;display:block;text-align:center;padding-top:4px\">[Open in New Window]</a>';\n",
       "    var script = document.createElement(\"script\");\n",
       "    script.src = \"http://\" + window.location.hostname + \":19679/Cu4DnEwb.js\";\n",
       "    div.appendChild(script);\n",
       "  </script>"
      ]
     },
     "metadata": {
      "0": "{",
      "1": "}"
     },
     "output_type": "display_data"
    }
   ],
   "source": [
    "for _ in 0..<1_000 {\n",
    "    for i in 0..<8 {\n",
    "        action[i] = Double.random(in: -1...1)\n",
    "    }\n",
    "    let (_, _, done, _) = env.step(action: action)\n",
    "    if done {\n",
    "        env.reset()\n",
    "    }\n",
    "    viewer.render()\n",
    "}"
   ]
  },
  {
   "cell_type": "code",
   "execution_count": null,
   "metadata": {},
   "outputs": [],
   "source": []
  }
 ],
 "metadata": {
  "kernelspec": {
   "display_name": "Swift",
   "language": "swift",
   "name": "swift"
  },
  "language_info": {
   "file_extension": ".swift",
   "mimetype": "text/x-swift",
   "name": "swift",
   "version": ""
  }
 },
 "nbformat": 4,
 "nbformat_minor": 4
}
